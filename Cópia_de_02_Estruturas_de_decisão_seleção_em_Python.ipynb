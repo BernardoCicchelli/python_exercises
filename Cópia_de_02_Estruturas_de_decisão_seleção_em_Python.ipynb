{
  "cells": [
    {
      "cell_type": "markdown",
      "metadata": {
        "id": "zLOraJOwZfmZ"
      },
      "source": [
        "# **Estruturas de decisão/seleção em Python**"
      ]
    },
    {
      "cell_type": "markdown",
      "source": [
        "### Estruturas condicionais\n",
        "Estruturas condicionais dão à uma linguagem de programação o poder de tomar decisões baseada em critérios pré-definidos.\n",
        "\n",
        "Em Python temos a estrutura **IF/ELIF/ELSE**.\n",
        "\n",
        "Uma estrutura condicional verifica se a cláusula avaliada pelo IF é verdadeira ou falsa.\n",
        "\n",
        "Podemos criar cláusulas mais sofisticadas com o uso de operadores lógicos NOT, AND e OR.\n",
        "\n",
        "Vamos iniciar executando estruturas de decisão simples."
      ],
      "metadata": {
        "id": "oIbVpRsiItlV"
      }
    },
    {
      "cell_type": "code",
      "execution_count": null,
      "metadata": {
        "id": "CLJPC4aOZfmm",
        "colab": {
          "base_uri": "https://localhost:8080/"
        },
        "outputId": "86fc70e8-5579-47ef-967f-49abdf7b0055"
      },
      "outputs": [
        {
          "output_type": "stream",
          "name": "stdout",
          "text": [
            "Verdadeiro!\n",
            "Verdadeiro!\n",
            "Verdadeiro!\n",
            "Verdadeiro!\n",
            "Saiu!\n"
          ]
        }
      ],
      "source": [
        "if 1 > 0:\n",
        "    print('Verdadeiro!')\n",
        "    print('Verdadeiro!')\n",
        "    print('Verdadeiro!')\n",
        "    print('Verdadeiro!')\n",
        "\n",
        "print('Saiu!')"
      ]
    },
    {
      "cell_type": "markdown",
      "source": [
        "Podemos usar objetos para armazenar os dados que utilizaremos na comparação."
      ],
      "metadata": {
        "id": "02ZoHU67JiXj"
      }
    },
    {
      "cell_type": "code",
      "execution_count": null,
      "metadata": {
        "id": "nNTI2D_mZfmm"
      },
      "outputs": [],
      "source": [
        "var1 = 1\n",
        "var2 = 3\n",
        "\n",
        "if var1 > var2:\n",
        "    print('Verdadeiro!')"
      ]
    },
    {
      "cell_type": "markdown",
      "source": [
        "Vamos ver como funciona o IF combinado com o ELSE."
      ],
      "metadata": {
        "id": "cWfCFVG0JrjR"
      }
    },
    {
      "cell_type": "code",
      "execution_count": null,
      "metadata": {
        "id": "j3bwOtSJZfmm",
        "colab": {
          "base_uri": "https://localhost:8080/"
        },
        "outputId": "3b37eed9-786f-4858-e2b0-369d893c7cc8"
      },
      "outputs": [
        {
          "output_type": "stream",
          "name": "stdout",
          "text": [
            "Verdadeiro!\n"
          ]
        }
      ],
      "source": [
        "var1 = 1\n",
        "var2 = 0\n",
        "\n",
        "if var1 > var2:\n",
        "    print('Verdadeiro!')\n",
        "else:\n",
        "    print('Falso!')"
      ]
    },
    {
      "cell_type": "markdown",
      "source": [
        "E se quisermos que o usuário entre com as informações? Vamos avaliar este caso e incluir o uso do ELIF, para que possamos considerar mais possibilidades."
      ],
      "metadata": {
        "id": "xd5Gv-zmJzJO"
      }
    },
    {
      "cell_type": "code",
      "execution_count": null,
      "metadata": {
        "id": "nzPr4RJQZfmn",
        "colab": {
          "base_uri": "https://localhost:8080/"
        },
        "outputId": "759ab2db-cd65-4951-86c9-38ea886d2cdb"
      },
      "outputs": [
        {
          "output_type": "stream",
          "name": "stdout",
          "text": [
            "Entre com o primeiro valor: 100\n",
            "Entre com o segundo valor: 100\n",
            "Valores iguais!\n"
          ]
        }
      ],
      "source": [
        "valor1 = int(input('Entre com o primeiro valor: '))\n",
        "valor2 = int(input('Entre com o segundo valor: '))\n",
        "\n",
        "if valor1 > valor2:\n",
        "    print('Primeiro valor MAIOR que o segundo!')\n",
        "elif valor1 < valor2:\n",
        "    print('Primeiro valor MENOR que o segundo!')\n",
        "else:\n",
        "    print('Valores iguais!')"
      ]
    },
    {
      "cell_type": "code",
      "source": [
        "valor1 = int(input('Entre com o primeiro valor: '))\n",
        "valor2 = int(input('Entre com o segundo valor: '))\n",
        "\n",
        "if valor1 > valor2:\n",
        "    print('Primeiro valor MAIOR que o segundo!')\n",
        "\n",
        "if valor1 < valor2:\n",
        "    print('Primeiro valor MENOR que o segundo!')\n",
        "elif valor1 == valor2:\n",
        "    print('Valores iguais!')"
      ],
      "metadata": {
        "colab": {
          "base_uri": "https://localhost:8080/"
        },
        "id": "opYxWI_Bmf5i",
        "outputId": "6a9a909c-423d-4174-9bd5-eb6a4ed9eb71"
      },
      "execution_count": null,
      "outputs": [
        {
          "output_type": "stream",
          "name": "stdout",
          "text": [
            "Entre com o primeiro valor: 20\n",
            "Entre com o segundo valor: 10\n",
            "Primeiro valor MAIOR que o segundo!\n"
          ]
        }
      ]
    },
    {
      "cell_type": "markdown",
      "metadata": {
        "id": "-52V2sPwZfmn"
      },
      "source": [
        "### Operações lógicas e lógica computacional\n",
        "\n",
        "Área da matemática que dá apoio à computação com a base lógica para tomada de decisão em códigos.\n",
        "\n",
        "Referências:\n",
        "- [Lógica Computacional, Prof. Pantoja (Playlist)](https://youtube.com/playlist?list=PLdvD02W3316LJy5lVsihHSvAbEXm1k-ri)\n",
        "- [Expressões lógicas, Mylena Moratta](https://educapes.capes.gov.br/bitstream/capes/597818/2/Express%C3%B5es%20L%C3%B3gicas%20-%20Operadores%20L%C3%B3gicos%20e%20Tabela-verdade.pdf)\n",
        "\n",
        "Vamos a um resumo das principais operações lógicas utilizadas."
      ]
    },
    {
      "cell_type": "markdown",
      "source": [
        "### Operador **E (AND)**\n",
        "\n",
        "O operador **'E'** retorna verdadeiro quando os dois valores de entrada  são verdadeiros, e em caso contrário ele retorna falso. vejamos sua tabela-verdade.\n",
        "\n",
        "![](https://dkrn4sk0rn31v.cloudfront.net/2020/01/15112656/operador-logico-e.png)"
      ],
      "metadata": {
        "id": "KrR899PnN0xl"
      }
    },
    {
      "cell_type": "markdown",
      "source": [
        "### Operador **OU (OR)**\n",
        "\n",
        "O operador **OU** retorna verdadeiro quando um OU outro valor de entrada é verdadeiro e também quando ambos os valores são verdadeiros. Ele só retorna falso quando os dois valores de entrada são falsos. Sua tabela-verdade é a seguinte.\n",
        "\n",
        "![](https://dkrn4sk0rn31v.cloudfront.net/2020/01/15112711/operador-logico-ou.png)"
      ],
      "metadata": {
        "id": "fr3yrZB-OUQC"
      }
    },
    {
      "cell_type": "markdown",
      "source": [
        "### Operador NÃO (NOT)\n",
        "\n",
        "Esse operador, diferente dos demais que vimos até agora, realiza uma operação sobre um único valor (chamamos isso de operador unário, os anteriores são chamados de operadores binários, pois necesitam de dois valores). Se o valor for verdadeiro ele retorna falso e se o valor for falso ele retorna verdadeiro.\n",
        "\n",
        "Ele também é chamado de **operador de negação**. Segue sua tabela-verdade.\n",
        "\n",
        "![](https://dkrn4sk0rn31v.cloudfront.net/2020/01/15112750/operador-logico-nao.png)"
      ],
      "metadata": {
        "id": "0zKlpZGLOzfL"
      }
    },
    {
      "cell_type": "markdown",
      "source": [
        "Seguimos agora com mais exemplos de estruturas condicionais, porém utilizando mais de uma condição."
      ],
      "metadata": {
        "id": "Z5m7iUU6PZpp"
      }
    },
    {
      "cell_type": "code",
      "execution_count": null,
      "metadata": {
        "id": "jYHxpcjXZfmn"
      },
      "outputs": [],
      "source": [
        "x = 10\n",
        "y = 20\n",
        "\n",
        "if (x < 10) or (y > 15):\n",
        "    print('Verdadeiro!')"
      ]
    },
    {
      "cell_type": "markdown",
      "source": [
        "Utilizando o ELSE."
      ],
      "metadata": {
        "id": "0JYK3PsFPoDK"
      }
    },
    {
      "cell_type": "code",
      "execution_count": null,
      "metadata": {
        "id": "iuJFaBgOZfmn"
      },
      "outputs": [],
      "source": [
        "x = 10\n",
        "y = 15\n",
        "\n",
        "if (x == 9) and (y == 15):\n",
        "    print('Verdadeiro!')\n",
        "else:\n",
        "    print('Falso!')"
      ]
    },
    {
      "cell_type": "markdown",
      "source": [
        "Segue um exemplo de estrutura de decisão operando diretamente em uma lista."
      ],
      "metadata": {
        "id": "j7EC9nKxPsJu"
      }
    },
    {
      "cell_type": "code",
      "execution_count": null,
      "metadata": {
        "id": "UWFtnTIaZfmn"
      },
      "outputs": [],
      "source": [
        "# Verificando se existe um elemento em uma lista.\n",
        "lista = [1, 2, 3, 4]\n",
        "x = 3\n",
        "\n",
        "if (x not in lista):\n",
        "    print(\"'x' não está na lista, então verdadeiro!\")\n",
        "else:\n",
        "    print(\"'x' está na lista\")\n"
      ]
    },
    {
      "cell_type": "markdown",
      "source": [
        "Podemos utilizar o operador de negação para verificar desigualdades. Seguem dois exemplos."
      ],
      "metadata": {
        "id": "fpEqAPi1Pxqq"
      }
    },
    {
      "cell_type": "code",
      "execution_count": null,
      "metadata": {
        "id": "TbD3Y5H_Zfmo"
      },
      "outputs": [],
      "source": [
        "x = 11\n",
        "if x != 11:\n",
        "    print('x não é igual a 11!')"
      ]
    },
    {
      "cell_type": "code",
      "execution_count": null,
      "metadata": {
        "id": "C727tkfNZfmo"
      },
      "outputs": [],
      "source": [
        "lista = [1, 2, 3, 4]\n",
        "x = 10\n",
        "z = 11\n",
        "\n",
        "if (x not in lista) and (z != 10):\n",
        "    print(\"Verdadeiro!\")"
      ]
    }
  ],
  "metadata": {
    "kernelspec": {
      "display_name": "Python 3",
      "language": "python",
      "name": "python3"
    },
    "language_info": {
      "codemirror_mode": {
        "name": "ipython",
        "version": 3
      },
      "file_extension": ".py",
      "mimetype": "text/x-python",
      "name": "python",
      "nbconvert_exporter": "python",
      "pygments_lexer": "ipython3",
      "version": "3.7.4"
    },
    "colab": {
      "provenance": []
    }
  },
  "nbformat": 4,
  "nbformat_minor": 0
}